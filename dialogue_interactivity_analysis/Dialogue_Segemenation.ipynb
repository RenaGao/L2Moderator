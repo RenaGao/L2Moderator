{
 "cells": [
  {
   "cell_type": "code",
   "execution_count": null,
   "metadata": {},
   "outputs": [],
   "source": [
    "import pandas as pd\n",
    "from sklearn.feature_extraction.text import TfidfVectorizer\n",
    "from sklearn.cluster import KMeans\n",
    "\n",
    "# Function to segment dialogue based on topic similarities\n",
    "\n",
    "def segment_based_on_similarity(dataframe, num_clusters=5):\n",
    "    \"\"\"\n",
    "    Segments a dialogue dataset based on topic similarities using KMeans clustering.\n",
    "\n",
    "    Parameters:\n",
    "        dataframe (pd.DataFrame): DataFrame containing a 'text' column for clustering.\n",
    "        num_clusters (int): Number of clusters to segment into.\n",
    "\n",
    "    Returns:\n",
    "        pd.DataFrame: Updated DataFrame with a 'segment' column indicating segment IDs.\n",
    "    \"\"\"\n",
    "    # Ensure 'text' column exists\n",
    "    if 'text' not in dataframe.columns:\n",
    "        raise ValueError(\"The dataframe must contain a 'text' column for segmentation.\")\n",
    "\n",
    "    # Fill missing text entries\n",
    "    text_data = dataframe['text'].fillna('').tolist()\n",
    "\n",
    "    # TF-IDF Vectorization\n",
    "    vectorizer = TfidfVectorizer(stop_words='english')\n",
    "    tfidf_matrix = vectorizer.fit_transform(text_data)\n",
    "\n",
    "    # Apply KMeans clustering\n",
    "    kmeans = KMeans(n_clusters=num_clusters, random_state=42, n_init=10)\n",
    "    dataframe['segment'] = kmeans.fit_predict(tfidf_matrix)\n",
    "\n",
    "    return dataframe\n",
    "\n",
    "# Example usage for segmentation\n",
    "\n",
    "def process_dialogues(dialogue_files, num_clusters=5):\n",
    "    \"\"\"\n",
    "    Processes a list of dialogue files, segments them by topic similarity, and saves results.\n",
    "\n",
    "    Parameters:\n",
    "        dialogue_files (dict): Dictionary with file labels as keys and file paths as values.\n",
    "        num_clusters (int): Number of clusters to use for segmentation.\n",
    "\n",
    "    Returns:\n",
    "        dict: Paths to the saved segmented files.\n",
    "    \"\"\"\n",
    "    segmented_files = {}\n",
    "\n",
    "    for name, path in dialogue_files.items():\n",
    "        # Load the dialogue data\n",
    "        dialogue_data = pd.read_csv(path)\n",
    "\n",
    "        # Perform segmentation\n",
    "        segmented_data = segment_based_on_similarity(dialogue_data, num_clusters=num_clusters)\n",
    "\n",
    "        # Save the segmented data\n",
    "        segmented_file_path = f\"segmented_{name}.csv\"\n",
    "        segmented_data.to_csv(segmented_file_path, index=False)\n",
    "        segmented_files[name] = segmented_file_path\n",
    "\n",
    "    return segmented_files\n",
    "\n",
    "# Example file paths\n",
    "dialogue_files = {\n",
    "    \"you own file\"\n",
    "}\n",
    "\n",
    "# Run segmentation for the given files\n",
    "segmented_results = process_dialogues(dialogue_files, num_clusters=5)\n",
    "print(\"Segmented files saved:\", segmented_results)\n"
   ]
  }
 ],
 "metadata": {
  "kernelspec": {
   "display_name": "Python 3",
   "language": "python",
   "name": "python3"
  },
  "language_info": {
   "codemirror_mode": {
    "name": "ipython",
    "version": 3
   },
   "file_extension": ".py",
   "mimetype": "text/x-python",
   "name": "python",
   "nbconvert_exporter": "python",
   "pygments_lexer": "ipython3",
   "version": "3.7.6"
  },
  "toc": {
   "base_numbering": 1,
   "nav_menu": {},
   "number_sections": true,
   "sideBar": true,
   "skip_h1_title": false,
   "title_cell": "Table of Contents",
   "title_sidebar": "Contents",
   "toc_cell": false,
   "toc_position": {},
   "toc_section_display": true,
   "toc_window_display": false
  },
  "varInspector": {
   "cols": {
    "lenName": 16,
    "lenType": 16,
    "lenVar": 40
   },
   "kernels_config": {
    "python": {
     "delete_cmd_postfix": "",
     "delete_cmd_prefix": "del ",
     "library": "var_list.py",
     "varRefreshCmd": "print(var_dic_list())"
    },
    "r": {
     "delete_cmd_postfix": ") ",
     "delete_cmd_prefix": "rm(",
     "library": "var_list.r",
     "varRefreshCmd": "cat(var_dic_list()) "
    }
   },
   "types_to_exclude": [
    "module",
    "function",
    "builtin_function_or_method",
    "instance",
    "_Feature"
   ],
   "window_display": false
  }
 },
 "nbformat": 4,
 "nbformat_minor": 4
}

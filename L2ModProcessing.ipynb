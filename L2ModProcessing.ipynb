{
 "cells": [
  {
   "cell_type": "code",
   "execution_count": 1,
   "metadata": {},
   "outputs": [
    {
     "ename": "ModuleNotFoundError",
     "evalue": "No module named 'webvtt'",
     "output_type": "error",
     "traceback": [
      "\u001b[0;31m---------------------------------------------------------------------------\u001b[0m",
      "\u001b[0;31mModuleNotFoundError\u001b[0m                       Traceback (most recent call last)",
      "Cell \u001b[0;32mIn[1], line 4\u001b[0m\n\u001b[1;32m      2\u001b[0m \u001b[38;5;28;01mimport\u001b[39;00m \u001b[38;5;21;01mcsv\u001b[39;00m\n\u001b[1;32m      3\u001b[0m \u001b[38;5;28;01mimport\u001b[39;00m \u001b[38;5;21;01mos\u001b[39;00m\n\u001b[0;32m----> 4\u001b[0m \u001b[38;5;28;01mimport\u001b[39;00m \u001b[38;5;21;01mwebvtt\u001b[39;00m\n\u001b[1;32m      6\u001b[0m \u001b[38;5;66;03m# Function to parse VTT file\u001b[39;00m\n\u001b[1;32m      7\u001b[0m \u001b[38;5;28;01mdef\u001b[39;00m \u001b[38;5;21mparse_vtt\u001b[39m(file_path):\n",
      "\u001b[0;31mModuleNotFoundError\u001b[0m: No module named 'webvtt'"
     ]
    }
   ],
   "source": [
    "import re\n",
    "import csv\n",
    "import os\n",
    "import webvtt\n",
    "\n",
    "# Function to parse VTT file\n",
    "def parse_vtt(file_path):\n",
    "    segments = []\n",
    "    with open(file_path, 'r', encoding='utf-8') as file:\n",
    "        content = file.readlines()\n",
    "        speaker, time, utterance = None, None, []\n",
    "        \n",
    "        for line in content:\n",
    "            line = line.strip()\n",
    "            # Match time format (e.g., 00:01:16.000 --> 00:01:18.000)\n",
    "            time_match = re.match(r'\\d{2}:\\d{2}:\\d{2}', line)\n",
    "            if time_match:\n",
    "                if speaker and utterance:\n",
    "                    segments.append((speaker, time, ' '.join(utterance)))\n",
    "                    utterance = []\n",
    "                time = line\n",
    "            # Match speaker identifier (e.g., SPK_1)\n",
    "            elif re.match(r'SPK_\\d+', line):\n",
    "                if speaker and utterance:\n",
    "                    segments.append((speaker, time, ' '.join(utterance)))\n",
    "                    utterance = []\n",
    "                speaker = line\n",
    "            # Collect utterances\n",
    "            elif line:\n",
    "                utterance.append(line)\n",
    "        # Append the last segment\n",
    "        if speaker and utterance:\n",
    "            segments.append((speaker, time, ' '.join(utterance)))\n",
    "    return segments\n",
    "\n",
    "# Function to segment the dialogue into different topics\n",
    "def segment_dialogue(segments):\n",
    "    segmented_dialogues = []\n",
    "    current_segment = []\n",
    "    \n",
    "    for speaker, time, utterance in segments:\n",
    "        # If the utterance contains a question or indicates a topic shift, start a new segment\n",
    "        if re.search(r'\\b(why|what|how|when|do you|let\\'s talk about)\\b', utterance, re.IGNORECASE):\n",
    "            if current_segment:\n",
    "                segmented_dialogues.append(current_segment)\n",
    "                current_segment = []\n",
    "        current_segment.append((speaker, time, utterance))\n",
    "    if current_segment:\n",
    "        segmented_dialogues.append(current_segment)\n",
    "    \n",
    "    return segmented_dialogues\n",
    "\n",
    "\n",
    "# Function to write segments to CSV\n",
    "def write_segments_to_csv(segments, output_folder, base_filename):\n",
    "    if not os.path.exists(output_folder):\n",
    "        os.makedirs(output_folder)\n",
    "    \n",
    "    for idx, segment in enumerate(segments):\n",
    "        output_file = os.path.join(output_folder, f\"{base_filename}_segment_{idx+1}.csv\")\n",
    "        with open(output_file, mode='w', newline='', encoding='utf-8') as file:\n",
    "            writer = csv.writer(file)\n",
    "            writer.writerow(['Speaker', 'Time', 'Utterance'])\n",
    "            for speaker, time, utterance in segment:\n",
    "                writer.writerow([speaker, time, utterance])\n",
    "\n",
    "# Main processing function\n",
    "def process_vtt_files(file_paths, output_folder='segmented_dialogues'):\n",
    "    for file_path in file_paths:\n",
    "        base_filename = os.path.splitext(os.path.basename(file_path))[0]\n",
    "        segments = parse_vtt(file_path)\n",
    "        segmented_dialogues = segment_dialogue(segments)\n",
    "        write_segments_to_csv(segmented_dialogues, output_folder, base_filename)\n",
    "\n",
    "# List of VTT files to process\n",
    "vtt_files = [\n",
    "    '/mnt/data/WithMod1.vtt',\n",
    "    '/mnt/data/WithMod2.vtt',\n",
    "    '/mnt/data/WithMod3.vtt',\n",
    "    '/mnt/data/WithMod4.vtt',\n",
    "    '/mnt/data/WithMod5.vtt',\n",
    "    '/mnt/data/WithoutMod1.txt',\n",
    "    '/mnt/data/WithoutMod2.txt',\n",
    "    '/mnt/data/WithoutMod3.vtt',\n",
    "    '/mnt/data/WithoutMod4.vtt',\n",
    "    '/mnt/data/WithoutMod5.vtt'\n",
    "]\n",
    "\n",
    "# Run the processing\n",
    "process_vtt_files(vtt_files)\n"
   ]
  },
  {
   "cell_type": "code",
   "execution_count": 4,
   "metadata": {},
   "outputs": [
    {
     "ename": "FileNotFoundError",
     "evalue": "[Errno 2] No such file or directory: '/Users/gaowei/Desktop/UK\\\\ Visit\\\\ Projects🇬🇧/L2Moderator/Unmergered_data/WithMod1.vtt '",
     "output_type": "error",
     "traceback": [
      "\u001b[0;31m---------------------------------------------------------------------------\u001b[0m",
      "\u001b[0;31mFileNotFoundError\u001b[0m                         Traceback (most recent call last)",
      "Cell \u001b[0;32mIn[4], line 5\u001b[0m\n\u001b[1;32m      2\u001b[0m \u001b[38;5;28;01mimport\u001b[39;00m \u001b[38;5;21;01mcsv\u001b[39;00m\n\u001b[1;32m      4\u001b[0m file \u001b[38;5;241m=\u001b[39m \u001b[38;5;124m'\u001b[39m\u001b[38;5;124m/Users/gaowei/Desktop/UK\u001b[39m\u001b[38;5;124m\\\u001b[39m\u001b[38;5;124m Visit\u001b[39m\u001b[38;5;124m\\\u001b[39m\u001b[38;5;124m Projects🇬🇧/L2Moderator/Unmergered_data/WithMod1.vtt \u001b[39m\u001b[38;5;124m'\u001b[39m\n\u001b[0;32m----> 5\u001b[0m opened_file \u001b[38;5;241m=\u001b[39m \u001b[38;5;28;43mopen\u001b[39;49m\u001b[43m(\u001b[49m\u001b[43mfile\u001b[49m\u001b[43m,\u001b[49m\u001b[43mencoding\u001b[49m\u001b[38;5;241;43m=\u001b[39;49m\u001b[38;5;124;43m'\u001b[39;49m\u001b[38;5;124;43mutf8\u001b[39;49m\u001b[38;5;124;43m'\u001b[39;49m\u001b[43m)\u001b[49m\n\u001b[1;32m      6\u001b[0m content \u001b[38;5;241m=\u001b[39m opened_file\u001b[38;5;241m.\u001b[39mread()\n\u001b[1;32m      7\u001b[0m segments \u001b[38;5;241m=\u001b[39m content\u001b[38;5;241m.\u001b[39msplit(\u001b[38;5;124m'\u001b[39m\u001b[38;5;130;01m\\n\u001b[39;00m\u001b[38;5;130;01m\\n\u001b[39;00m\u001b[38;5;124m'\u001b[39m) \u001b[38;5;66;03m# split on double line\u001b[39;00m\n",
      "File \u001b[0;32m~/Library/Python/3.8/lib/python/site-packages/IPython/core/interactiveshell.py:284\u001b[0m, in \u001b[0;36m_modified_open\u001b[0;34m(file, *args, **kwargs)\u001b[0m\n\u001b[1;32m    277\u001b[0m \u001b[38;5;28;01mif\u001b[39;00m file \u001b[38;5;129;01min\u001b[39;00m {\u001b[38;5;241m0\u001b[39m, \u001b[38;5;241m1\u001b[39m, \u001b[38;5;241m2\u001b[39m}:\n\u001b[1;32m    278\u001b[0m     \u001b[38;5;28;01mraise\u001b[39;00m \u001b[38;5;167;01mValueError\u001b[39;00m(\n\u001b[1;32m    279\u001b[0m         \u001b[38;5;124mf\u001b[39m\u001b[38;5;124m\"\u001b[39m\u001b[38;5;124mIPython won\u001b[39m\u001b[38;5;124m'\u001b[39m\u001b[38;5;124mt let you open fd=\u001b[39m\u001b[38;5;132;01m{\u001b[39;00mfile\u001b[38;5;132;01m}\u001b[39;00m\u001b[38;5;124m by default \u001b[39m\u001b[38;5;124m\"\u001b[39m\n\u001b[1;32m    280\u001b[0m         \u001b[38;5;124m\"\u001b[39m\u001b[38;5;124mas it is likely to crash IPython. If you know what you are doing, \u001b[39m\u001b[38;5;124m\"\u001b[39m\n\u001b[1;32m    281\u001b[0m         \u001b[38;5;124m\"\u001b[39m\u001b[38;5;124myou can use builtins\u001b[39m\u001b[38;5;124m'\u001b[39m\u001b[38;5;124m open.\u001b[39m\u001b[38;5;124m\"\u001b[39m\n\u001b[1;32m    282\u001b[0m     )\n\u001b[0;32m--> 284\u001b[0m \u001b[38;5;28;01mreturn\u001b[39;00m \u001b[43mio_open\u001b[49m\u001b[43m(\u001b[49m\u001b[43mfile\u001b[49m\u001b[43m,\u001b[49m\u001b[43m \u001b[49m\u001b[38;5;241;43m*\u001b[39;49m\u001b[43margs\u001b[49m\u001b[43m,\u001b[49m\u001b[43m \u001b[49m\u001b[38;5;241;43m*\u001b[39;49m\u001b[38;5;241;43m*\u001b[39;49m\u001b[43mkwargs\u001b[49m\u001b[43m)\u001b[49m\n",
      "\u001b[0;31mFileNotFoundError\u001b[0m: [Errno 2] No such file or directory: '/Users/gaowei/Desktop/UK\\\\ Visit\\\\ Projects🇬🇧/L2Moderator/Unmergered_data/WithMod1.vtt '"
     ]
    }
   ],
   "source": [
    "import re\n",
    "import csv\n",
    "\n",
    "file = '/Users/gaowei/Desktop/UK\\ Visit\\ Projects🇬🇧/L2Moderator/Unmergered_data/WithMod1.vtt '\n",
    "opened_file = open(file,encoding='utf8')\n",
    "content = opened_file.read()\n",
    "segments = content.split('\\n\\n') # split on double line\n",
    "\n",
    "# wrangle segments\n",
    "m = re.compile(r\"\\<.*?\\>\") # strip/remove unwanted tags\n",
    "o = re.compile(r\"\\.+\\d+\") # strip/remove miliseconds\n",
    "\n",
    "def clean(content):\n",
    "    new_content = m.sub('',content)\n",
    "    new_content = o.sub('',new_content)\n",
    "    new_content = new_content.replace('align:start position:0%','')\n",
    "    new_content = new_content.replace('-->','')\n",
    "    return new_content\n",
    "\n",
    "new_segments = [clean(s) for s in segments if len(s)!=0][2:]\n",
    "\n",
    "# trim time codes for g suite plain text formatting conversion to seconds w/ formula '=value(str*24*3600)'\n",
    "def clean_time(time):\n",
    "    time = time.split(':')\n",
    "    if time[0]=='00':\n",
    "        return time[1]+':'+time[2]\n",
    "    if not time[0]=='00':\n",
    "        return time[0]+':'+time[1]+':'+time[2]\n",
    "\n",
    "trimmed_segments = []\n",
    "for segment in new_segments:\n",
    "    split_segment = segment.split()\n",
    "    time_code = split_segment[0]\n",
    "    text = ' '.join(segment.split()[2:])\n",
    "    trimmed_segment = (time_code, text)\n",
    "    trimmed_segments.append(trimmed_segment)\n",
    "\n",
    "# write output as csv file\n",
    "with open(str(file)[:-3]+'csv', 'w', encoding='utf8', newline='') as f:\n",
    "    for line in trimmed_segments:\n",
    "        thewriter = csv.writer(f)\n",
    "        thewriter.writerow(line)"
   ]
  },
  {
   "cell_type": "code",
   "execution_count": 5,
   "metadata": {},
   "outputs": [
    {
     "ename": "ModuleNotFoundError",
     "evalue": "No module named 'webvtt'",
     "output_type": "error",
     "traceback": [
      "\u001b[0;31m---------------------------------------------------------------------------\u001b[0m",
      "\u001b[0;31mModuleNotFoundError\u001b[0m                       Traceback (most recent call last)",
      "Cell \u001b[0;32mIn[5], line 7\u001b[0m\n\u001b[1;32m      4\u001b[0m filenames_vtt[:\u001b[38;5;241m2\u001b[39m]\n\u001b[1;32m      6\u001b[0m \u001b[38;5;66;03m# Then, we write a function to extract the information and store it.\u001b[39;00m\n\u001b[0;32m----> 7\u001b[0m \u001b[38;5;28;01mimport\u001b[39;00m \u001b[38;5;21;01mwebvtt\u001b[39;00m\n\u001b[1;32m      8\u001b[0m \u001b[38;5;28;01mdef\u001b[39;00m \u001b[38;5;21mconvert_vtt\u001b[39m(filenames):    \n\u001b[1;32m      9\u001b[0m     \u001b[38;5;66;03m#create an assets folder if one does not yet exist\u001b[39;00m\n\u001b[1;32m     10\u001b[0m     \u001b[38;5;28;01mif\u001b[39;00m os\u001b[38;5;241m.\u001b[39mpath\u001b[38;5;241m.\u001b[39misdir(\u001b[38;5;124m'\u001b[39m\u001b[38;5;132;01m{}\u001b[39;00m\u001b[38;5;124m/assets\u001b[39m\u001b[38;5;124m'\u001b[39m\u001b[38;5;241m.\u001b[39mformat(os\u001b[38;5;241m.\u001b[39mgetcwd())) \u001b[38;5;241m==\u001b[39m \u001b[38;5;28;01mFalse\u001b[39;00m:\n",
      "\u001b[0;31mModuleNotFoundError\u001b[0m: No module named 'webvtt'"
     ]
    }
   ],
   "source": [
    "filenames_vtt = [os.fsdecode(file) for file in os.listdir(os.getcwd()) if os.fsdecode(file).endswith(\".vtt\")]\n",
    "\n",
    "#Check file names\n",
    "filenames_vtt[:2]\n",
    "\n",
    "# Then, we write a function to extract the information and store it.\n",
    "import webvtt\n",
    "def convert_vtt(filenames):    \n",
    "    #create an assets folder if one does not yet exist\n",
    "    if os.path.isdir('{}/assets'.format(os.getcwd())) == False:\n",
    "        os.makedirs('assets')\n",
    "    #extract the text and times from the vtt file\n",
    "    for file in filenames:\n",
    "        captions = webvtt.read(file)\n",
    "        text_time = pd.DataFrame()\n",
    "        text_time['text'] = [caption.text for caption in captions]\n",
    "        text_time['start'] = [caption.start for caption in captions]\n",
    "        text_time['stop'] = [caption.end for caption in captions]\n",
    "        text_time.to_csv('assets/{}.csv'.format(file[:-4]),index=False) #-4 to remove '.vtt'\n",
    "        #remove files from local drive\n",
    "        os.remove(file)"
   ]
  },
  {
   "cell_type": "code",
   "execution_count": null,
   "metadata": {},
   "outputs": [],
   "source": []
  },
  {
   "cell_type": "markdown",
   "metadata": {},
   "source": [
    "### Segemnation dialogues"
   ]
  },
  {
   "cell_type": "code",
   "execution_count": null,
   "metadata": {},
   "outputs": [],
   "source": []
  },
  {
   "cell_type": "markdown",
   "metadata": {},
   "source": []
  }
 ],
 "metadata": {
  "kernelspec": {
   "display_name": "Python 3",
   "language": "python",
   "name": "python3"
  },
  "language_info": {
   "codemirror_mode": {
    "name": "ipython",
    "version": 3
   },
   "file_extension": ".py",
   "mimetype": "text/x-python",
   "name": "python",
   "nbconvert_exporter": "python",
   "pygments_lexer": "ipython3",
   "version": "3.8.3"
  }
 },
 "nbformat": 4,
 "nbformat_minor": 2
}
